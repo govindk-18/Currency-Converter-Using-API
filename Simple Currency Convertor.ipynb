{
 "cells": [
  {
   "cell_type": "code",
   "execution_count": 3,
   "metadata": {},
   "outputs": [
    {
     "name": "stdout",
     "output_type": "stream",
     "text": [
      "Please enter the date (in the format 'yyyy-mm-dd' or 'latest'): latest\n",
      "Convert from (currency): INR\n",
      "Convert to (currency): USD\n",
      "How much INR do you want to convert: 1\n",
      "\n",
      "1.0 INR is equal to 1.184084 USD, based upon exchange rates on 2021-08-05\n"
     ]
    }
   ],
   "source": [
    "import requests\n",
    "base_url = \"http://api.exchangeratesapi.io/v1/latest?access_key=38648c91999a61e7293f8d20bdeee711&format=1\"\n",
    "# Gathering input parameters from the user\n",
    "date = input(\"Please enter the date (in the format 'yyyy-mm-dd' or 'latest'): \")\n",
    "base = input(\"Convert from (currency): \")\n",
    "curr = input(\"Convert to (currency): \")\n",
    "quan = float(input(\"How much {} do you want to convert: \".format(base)))\n",
    "\n",
    "# Constructing the URL based on the user parameters and sending a request to the server\n",
    "url = base_url + \"/\" + date + \"?base=\" + base + \"&symbols=\" + curr\n",
    "response = requests.get(url)\n",
    "\n",
    "# Displaying the error message, if something went wrong\n",
    "if(response.ok is False):\n",
    "    print(\"\\nError {}:\".format(response.status_code))\n",
    "    print(response.json()['error'])\n",
    "\n",
    "else:\n",
    "    data = response.json()\n",
    "    rate = data['rates'][curr]\n",
    "    \n",
    "    result = quan*rate\n",
    "    \n",
    "    print(\"\\n{0} {1} is equal to {2} {3}, based upon exchange rates on {4}\".format(quan,base,result,curr,data['date']))\n"
   ]
  },
  {
   "cell_type": "code",
   "execution_count": null,
   "metadata": {},
   "outputs": [],
   "source": []
  }
 ],
 "metadata": {
  "kernelspec": {
   "display_name": "Python 3",
   "language": "python",
   "name": "python3"
  },
  "language_info": {
   "codemirror_mode": {
    "name": "ipython",
    "version": 3
   },
   "file_extension": ".py",
   "mimetype": "text/x-python",
   "name": "python",
   "nbconvert_exporter": "python",
   "pygments_lexer": "ipython3",
   "version": "3.8.5"
  }
 },
 "nbformat": 4,
 "nbformat_minor": 4
}
